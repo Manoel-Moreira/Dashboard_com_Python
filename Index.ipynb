{
  "nbformat": 4,
  "nbformat_minor": 0,
  "metadata": {
    "colab": {
      "provenance": [],
      "mount_file_id": "1E1nDOItRZTQFp_7N6vssHn_f2C-VNxdE",
      "authorship_tag": "ABX9TyMtimnmuISQ0lYlhpocVt+3",
      "include_colab_link": true
    },
    "kernelspec": {
      "name": "python3",
      "display_name": "Python 3"
    },
    "language_info": {
      "name": "python"
    }
  },
  "cells": [
    {
      "cell_type": "markdown",
      "metadata": {
        "id": "view-in-github",
        "colab_type": "text"
      },
      "source": [
        "<a href=\"https://colab.research.google.com/github/Manoel-Moreira/Dashboard_com_Python/blob/main/Index.ipynb\" target=\"_parent\"><img src=\"https://colab.research.google.com/assets/colab-badge.svg\" alt=\"Open In Colab\"/></a>"
      ]
    },
    {
      "cell_type": "markdown",
      "source": [
        "Neste dash iremos apresentar:\n",
        "1 - Faturamento por mês e por unidade\n",
        "2 - Tipo de produto mais vendido\n",
        "3 - Desempenho das formas de pagamento\n",
        "4 - Avaliação média de cada filial"
      ],
      "metadata": {
        "id": "PtXnyVbdiKO7"
      }
    },
    {
      "cell_type": "code",
      "source": [
        "#Importando as bibliotecas:\n",
        "import pandas as pd #Biblioteca para análise e manipulação de dados\n",
        "!pip install streamlit # instalando o steamlit usando o pip\n",
        "import streamlit as st #Criar interfaces com o usuário - Vamos usar para manipuar os dados\n",
        "import plotly.express as px #Visualização dos dados - Iremos usar para construir os dados\n"
      ],
      "metadata": {
        "id": "rh9q5VuZrCUC"
      },
      "execution_count": null,
      "outputs": []
    },
    {
      "cell_type": "code",
      "source": [
        "#Importar o arquivo: (Lembre-se de baixá-lo no notebook)\n",
        "df = pd.read_csv(\"/content/supermarket_sales.csv\", sep=\";\", decimal=\",\" )\n",
        "df.head()"
      ],
      "metadata": {
        "id": "RGcyVEqMi2EI"
      },
      "execution_count": null,
      "outputs": []
    },
    {
      "cell_type": "code",
      "source": [],
      "metadata": {
        "id": "FkevAb4Bt47_"
      },
      "execution_count": null,
      "outputs": []
    }
  ]
}